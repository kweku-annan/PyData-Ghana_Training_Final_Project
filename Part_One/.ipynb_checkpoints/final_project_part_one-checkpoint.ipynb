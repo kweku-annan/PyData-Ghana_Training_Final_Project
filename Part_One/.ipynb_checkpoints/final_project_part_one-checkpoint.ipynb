{
 "cells": [
  {
   "cell_type": "code",
   "execution_count": 2,
   "id": "d3a2b6b8",
   "metadata": {},
   "outputs": [],
   "source": [
    "from selenium import webdriver as wd"
   ]
  },
  {
   "cell_type": "code",
   "execution_count": 3,
   "id": "1feeada5",
   "metadata": {},
   "outputs": [],
   "source": [
    "data = {}"
   ]
  },
  {
   "cell_type": "markdown",
   "id": "dafe5ebe",
   "metadata": {},
   "source": [
    "## Scraping details for DMC Natura XL"
   ]
  },
  {
   "cell_type": "code",
   "execution_count": 4,
   "id": "d0dcf7b1",
   "metadata": {},
   "outputs": [],
   "source": [
    "url = \"https://www.yarnplaza.com/product/4216/dmc-natura-xl.html?sqr=natura%20xl\""
   ]
  },
  {
   "cell_type": "code",
   "execution_count": 5,
   "id": "183409a6",
   "metadata": {},
   "outputs": [],
   "source": [
    "driver = wd.Chrome()"
   ]
  },
  {
   "cell_type": "code",
   "execution_count": 6,
   "id": "b6bd67b7",
   "metadata": {},
   "outputs": [],
   "source": [
    "driver.implicitly_wait(10)\n",
    "driver.get(url)"
   ]
  },
  {
   "cell_type": "code",
   "execution_count": 7,
   "id": "5842f635",
   "metadata": {},
   "outputs": [
    {
     "name": "stderr",
     "output_type": "stream",
     "text": [
      "/tmp/ipykernel_46261/2902601335.py:1: DeprecationWarning: find_element_by_xpath is deprecated. Please use find_element(by=By.XPATH, value=xpath) instead\n",
      "  dmc_brand_name = driver.find_element_by_xpath(\"//div[@id='pdetailTableSpecs']//table//tbody//tr[17]//td[2]\").text\n",
      "/tmp/ipykernel_46261/2902601335.py:2: DeprecationWarning: find_element_by_xpath is deprecated. Please use find_element(by=By.XPATH, value=xpath) instead\n",
      "  dmc_product_name = driver.find_element_by_xpath(\"//h1[@id='pageheadertitle']\").text[4:13]\n",
      "/tmp/ipykernel_46261/2902601335.py:3: DeprecationWarning: find_element_by_xpath is deprecated. Please use find_element(by=By.XPATH, value=xpath) instead\n",
      "  dmc_product_price = driver.find_element_by_xpath(\"//span[@class='product-price']\").get_attribute(\"content\")\n",
      "/tmp/ipykernel_46261/2902601335.py:4: DeprecationWarning: find_element_by_xpath is deprecated. Please use find_element(by=By.XPATH, value=xpath) instead\n",
      "  dmc_product_needle_size = driver.find_element_by_xpath(\"//div[@id='pdetailTableSpecs']//table//tbody//tr[5]//td[2]\").text\n",
      "/tmp/ipykernel_46261/2902601335.py:5: DeprecationWarning: find_element_by_xpath is deprecated. Please use find_element(by=By.XPATH, value=xpath) instead\n",
      "  dmc_product_composition = driver.find_element_by_xpath(\"//div[@id='pdetailTableSpecs']//table//tbody//tr[4]//td[2]\").text\n"
     ]
    }
   ],
   "source": [
    "dmc_brand_name = driver.find_element_by_xpath(\"//div[@id='pdetailTableSpecs']//table//tbody//tr[17]//td[2]\").text\n",
    "dmc_product_name = driver.find_element_by_xpath(\"//h1[@id='pageheadertitle']\").text[4:13]\n",
    "dmc_product_price = driver.find_element_by_xpath(\"//span[@class='product-price']\").get_attribute(\"content\")\n",
    "dmc_product_needle_size = driver.find_element_by_xpath(\"//div[@id='pdetailTableSpecs']//table//tbody//tr[5]//td[2]\").text\n",
    "dmc_product_composition = driver.find_element_by_xpath(\"//div[@id='pdetailTableSpecs']//table//tbody//tr[4]//td[2]\").text"
   ]
  },
  {
   "cell_type": "code",
   "execution_count": 8,
   "id": "6914494b",
   "metadata": {},
   "outputs": [
    {
     "data": {
      "text/plain": [
       "{'Brand': ['DMC'],\n",
       " 'Name': ['Natura XL'],\n",
       " 'Price': ['€9'],\n",
       " 'Needle Size': ['8 mm'],\n",
       " 'Composition': ['100% Cotton'],\n",
       " 'Delivery Time': ['N/A']}"
      ]
     },
     "execution_count": 8,
     "metadata": {},
     "output_type": "execute_result"
    }
   ],
   "source": [
    "data[\"Brand\"] = [dmc_brand_name]\n",
    "data[\"Name\"] = [dmc_product_name]\n",
    "data[\"Price\"] = [\"€\" + str(round(float(dmc_product_price)))]\n",
    "data[\"Needle Size\"] = [dmc_product_needle_size]\n",
    "data[\"Composition\"] = [dmc_product_composition]\n",
    "data[\"Delivery Time\"] = [\"N/A\"]\n",
    "data"
   ]
  },
  {
   "cell_type": "markdown",
   "id": "f288a302",
   "metadata": {},
   "source": [
    "## Scraping Details for Drops Safran"
   ]
  },
  {
   "cell_type": "code",
   "execution_count": 9,
   "id": "d84de940",
   "metadata": {},
   "outputs": [],
   "source": [
    "url = \"https://www.yarnplaza.com/yarn/drops/drops-safran?sqr=safran\""
   ]
  },
  {
   "cell_type": "code",
   "execution_count": 10,
   "id": "2dac7c87",
   "metadata": {},
   "outputs": [],
   "source": [
    "driver.implicitly_wait(10)\n",
    "driver.get(url)"
   ]
  },
  {
   "cell_type": "code",
   "execution_count": 11,
   "id": "747da11d",
   "metadata": {},
   "outputs": [
    {
     "name": "stderr",
     "output_type": "stream",
     "text": [
      "/tmp/ipykernel_46261/3943755885.py:1: DeprecationWarning: find_element_by_xpath is deprecated. Please use find_element(by=By.XPATH, value=xpath) instead\n",
      "  drops_brand_name = driver.find_element_by_xpath(\"//div[@id='pdetailTableSpecs']//table//tbody//tr[15]//td[2]\").text\n",
      "/tmp/ipykernel_46261/3943755885.py:2: DeprecationWarning: find_element_by_xpath is deprecated. Please use find_element(by=By.XPATH, value=xpath) instead\n",
      "  drops_product_name = driver.find_element_by_xpath(\"//h1[@id='pageheadertitle']\").text[6:12]\n",
      "/tmp/ipykernel_46261/3943755885.py:3: DeprecationWarning: find_element_by_xpath is deprecated. Please use find_element(by=By.XPATH, value=xpath) instead\n",
      "  drops_product_price = driver.find_element_by_xpath(\"//span[@class='product-price']\").get_attribute(\"content\")\n",
      "/tmp/ipykernel_46261/3943755885.py:4: DeprecationWarning: find_element_by_xpath is deprecated. Please use find_element(by=By.XPATH, value=xpath) instead\n",
      "  drops_product_needle_size = driver.find_element_by_xpath(\"//div[@id='pdetailTableSpecs']//table//tbody//tr[5]//td[2]\").text\n",
      "/tmp/ipykernel_46261/3943755885.py:5: DeprecationWarning: find_element_by_xpath is deprecated. Please use find_element(by=By.XPATH, value=xpath) instead\n",
      "  drops_product_composition = driver.find_element_by_xpath(\"//div[@id='pdetailTableSpecs']//table//tbody//tr[4]//td[2]\").text\n"
     ]
    }
   ],
   "source": [
    "drops_brand_name = driver.find_element_by_xpath(\"//div[@id='pdetailTableSpecs']//table//tbody//tr[15]//td[2]\").text\n",
    "drops_product_name = driver.find_element_by_xpath(\"//h1[@id='pageheadertitle']\").text[6:12]\n",
    "drops_product_price = driver.find_element_by_xpath(\"//span[@class='product-price']\").get_attribute(\"content\")\n",
    "drops_product_needle_size = driver.find_element_by_xpath(\"//div[@id='pdetailTableSpecs']//table//tbody//tr[5]//td[2]\").text\n",
    "drops_product_composition = driver.find_element_by_xpath(\"//div[@id='pdetailTableSpecs']//table//tbody//tr[4]//td[2]\").text"
   ]
  },
  {
   "cell_type": "code",
   "execution_count": 12,
   "id": "c8f5ce1d",
   "metadata": {},
   "outputs": [
    {
     "data": {
      "text/plain": [
       "{'Brand': ['DMC', 'Drops'],\n",
       " 'Name': ['Natura XL', 'Safran'],\n",
       " 'Price': ['€9', '€1'],\n",
       " 'Needle Size': ['8 mm', '3 mm'],\n",
       " 'Composition': ['100% Cotton', '100% Cotton'],\n",
       " 'Delivery Time': ['N/A', 'N/A']}"
      ]
     },
     "execution_count": 12,
     "metadata": {},
     "output_type": "execute_result"
    }
   ],
   "source": [
    "data['Brand'].append(drops_brand_name)\n",
    "data[\"Name\"].append(drops_product_name)\n",
    "data[\"Price\"].append(\"€\" + str(round(float(drops_product_price))))\n",
    "data[\"Needle Size\"].append(drops_product_needle_size)\n",
    "data[\"Composition\"].append(drops_product_composition)\n",
    "data[\"Delivery Time\"].append(\"N/A\")\n",
    "data"
   ]
  },
  {
   "cell_type": "markdown",
   "id": "5b0c2ed2",
   "metadata": {},
   "source": [
    "## Scraping Details for Stylecraft Special dk"
   ]
  },
  {
   "cell_type": "code",
   "execution_count": 13,
   "id": "f495eaca",
   "metadata": {},
   "outputs": [],
   "source": [
    "url = \"https://www.yarnplaza.com/yarn/stylecraft/stylecraft-special-dk\""
   ]
  },
  {
   "cell_type": "code",
   "execution_count": 14,
   "id": "0d0cbd7c",
   "metadata": {},
   "outputs": [],
   "source": [
    "driver.implicitly_wait(10)\n",
    "driver.get(url)"
   ]
  },
  {
   "cell_type": "code",
   "execution_count": 15,
   "id": "bfe3e486",
   "metadata": {},
   "outputs": [
    {
     "name": "stderr",
     "output_type": "stream",
     "text": [
      "/tmp/ipykernel_46261/4061473101.py:1: DeprecationWarning: find_element_by_xpath is deprecated. Please use find_element(by=By.XPATH, value=xpath) instead\n",
      "  stylecraft_brand_name = driver.find_element_by_xpath(\"//div[@id='pdetailTableSpecs']//table//tbody//tr[16]//td[2]\").text\n",
      "/tmp/ipykernel_46261/4061473101.py:2: DeprecationWarning: find_element_by_xpath is deprecated. Please use find_element(by=By.XPATH, value=xpath) instead\n",
      "  stylecraft_product_name = driver.find_element_by_xpath(\"//h1[@id='pageheadertitle']\").text[11:21]\n",
      "/tmp/ipykernel_46261/4061473101.py:3: DeprecationWarning: find_element_by_xpath is deprecated. Please use find_element(by=By.XPATH, value=xpath) instead\n",
      "  stylecraft_product_price = driver.find_element_by_xpath(\"//span[@class='product-price']\").get_attribute(\"content\")\n",
      "/tmp/ipykernel_46261/4061473101.py:4: DeprecationWarning: find_element_by_xpath is deprecated. Please use find_element(by=By.XPATH, value=xpath) instead\n",
      "  stylecraft_product_needle_size = driver.find_element_by_xpath(\"//div[@id='pdetailTableSpecs']//table//tbody//tr[4]//td[2]\").text\n",
      "/tmp/ipykernel_46261/4061473101.py:5: DeprecationWarning: find_element_by_xpath is deprecated. Please use find_element(by=By.XPATH, value=xpath) instead\n",
      "  stylecraft_product_composition = driver.find_element_by_xpath(\"//div[@id='pdetailTableSpecs']//table//tbody//tr[3]//td[2]\").text\n"
     ]
    }
   ],
   "source": [
    "stylecraft_brand_name = driver.find_element_by_xpath(\"//div[@id='pdetailTableSpecs']//table//tbody//tr[16]//td[2]\").text\n",
    "stylecraft_product_name = driver.find_element_by_xpath(\"//h1[@id='pageheadertitle']\").text[11:21]\n",
    "stylecraft_product_price = driver.find_element_by_xpath(\"//span[@class='product-price']\").get_attribute(\"content\")\n",
    "stylecraft_product_needle_size = driver.find_element_by_xpath(\"//div[@id='pdetailTableSpecs']//table//tbody//tr[4]//td[2]\").text\n",
    "stylecraft_product_composition = driver.find_element_by_xpath(\"//div[@id='pdetailTableSpecs']//table//tbody//tr[3]//td[2]\").text"
   ]
  },
  {
   "cell_type": "code",
   "execution_count": 16,
   "id": "831f1211",
   "metadata": {},
   "outputs": [
    {
     "data": {
      "text/plain": [
       "{'Brand': ['DMC', 'Drops', 'Stylecraft'],\n",
       " 'Name': ['Natura XL', 'Safran', 'Special dk'],\n",
       " 'Price': ['€9', '€1', '€2'],\n",
       " 'Needle Size': ['8 mm', '3 mm', '4 mm'],\n",
       " 'Composition': ['100% Cotton', '100% Cotton', '100% Acrylic'],\n",
       " 'Delivery Time': ['N/A', 'N/A', 'N/A']}"
      ]
     },
     "execution_count": 16,
     "metadata": {},
     "output_type": "execute_result"
    }
   ],
   "source": [
    "data['Brand'].append(stylecraft_brand_name)\n",
    "data[\"Name\"].append(stylecraft_product_name)\n",
    "data[\"Price\"].append(\"€\" + str(round(float(stylecraft_product_price))))\n",
    "data[\"Needle Size\"].append(stylecraft_product_needle_size)\n",
    "data[\"Composition\"].append(stylecraft_product_composition)\n",
    "data[\"Delivery Time\"].append(\"N/A\")\n",
    "data"
   ]
  },
  {
   "cell_type": "code",
   "execution_count": 17,
   "id": "ddc8fece",
   "metadata": {},
   "outputs": [],
   "source": [
    "import pandas as pd"
   ]
  },
  {
   "cell_type": "code",
   "execution_count": 18,
   "id": "9b264ce1",
   "metadata": {},
   "outputs": [
    {
     "data": {
      "text/html": [
       "<div>\n",
       "<style scoped>\n",
       "    .dataframe tbody tr th:only-of-type {\n",
       "        vertical-align: middle;\n",
       "    }\n",
       "\n",
       "    .dataframe tbody tr th {\n",
       "        vertical-align: top;\n",
       "    }\n",
       "\n",
       "    .dataframe thead th {\n",
       "        text-align: right;\n",
       "    }\n",
       "</style>\n",
       "<table border=\"1\" class=\"dataframe\">\n",
       "  <thead>\n",
       "    <tr style=\"text-align: right;\">\n",
       "      <th></th>\n",
       "      <th>Brand</th>\n",
       "      <th>Name</th>\n",
       "      <th>Price</th>\n",
       "      <th>Needle Size</th>\n",
       "      <th>Composition</th>\n",
       "      <th>Delivery Time</th>\n",
       "    </tr>\n",
       "  </thead>\n",
       "  <tbody>\n",
       "    <tr>\n",
       "      <th>0</th>\n",
       "      <td>DMC</td>\n",
       "      <td>Natura XL</td>\n",
       "      <td>€9</td>\n",
       "      <td>8 mm</td>\n",
       "      <td>100% Cotton</td>\n",
       "      <td>N/A</td>\n",
       "    </tr>\n",
       "    <tr>\n",
       "      <th>1</th>\n",
       "      <td>Drops</td>\n",
       "      <td>Safran</td>\n",
       "      <td>€1</td>\n",
       "      <td>3 mm</td>\n",
       "      <td>100% Cotton</td>\n",
       "      <td>N/A</td>\n",
       "    </tr>\n",
       "    <tr>\n",
       "      <th>2</th>\n",
       "      <td>Stylecraft</td>\n",
       "      <td>Special dk</td>\n",
       "      <td>€2</td>\n",
       "      <td>4 mm</td>\n",
       "      <td>100% Acrylic</td>\n",
       "      <td>N/A</td>\n",
       "    </tr>\n",
       "  </tbody>\n",
       "</table>\n",
       "</div>"
      ],
      "text/plain": [
       "        Brand        Name Price Needle Size   Composition Delivery Time\n",
       "0         DMC   Natura XL    €9        8 mm   100% Cotton           N/A\n",
       "1       Drops      Safran    €1        3 mm   100% Cotton           N/A\n",
       "2  Stylecraft  Special dk    €2        4 mm  100% Acrylic           N/A"
      ]
     },
     "execution_count": 18,
     "metadata": {},
     "output_type": "execute_result"
    }
   ],
   "source": [
    "df = pd.DataFrame(data=data, index=None)\n",
    "df"
   ]
  },
  {
   "cell_type": "code",
   "execution_count": 19,
   "id": "bf0b2d6e",
   "metadata": {},
   "outputs": [],
   "source": [
    "df.to_csv(\"final_project_part_one.csv\")"
   ]
  },
  {
   "cell_type": "code",
   "execution_count": null,
   "id": "a7930db0",
   "metadata": {},
   "outputs": [],
   "source": []
  }
 ],
 "metadata": {
  "kernelspec": {
   "display_name": "Python 3 (ipykernel)",
   "language": "python",
   "name": "python3"
  },
  "language_info": {
   "codemirror_mode": {
    "name": "ipython",
    "version": 3
   },
   "file_extension": ".py",
   "mimetype": "text/x-python",
   "name": "python",
   "nbconvert_exporter": "python",
   "pygments_lexer": "ipython3",
   "version": "3.9.7"
  }
 },
 "nbformat": 4,
 "nbformat_minor": 5
}
